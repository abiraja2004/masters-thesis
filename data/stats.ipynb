{
 "cells": [
  {
   "cell_type": "markdown",
   "metadata": {},
   "source": [
    "# Datasets\n",
    "---------------\n",
    "### 1. Amazon Reviews Dataset\n",
    "\n",
    "We are using the Amazon product data available at http://jmcauley.ucsd.edu/data/amazon/ with appropriate permissions from the author. The complete dataset contains product reviews and metadata from Amazon, including 143.7 million reviews spanning May 1996 - July 2014. It  includes reviews (ratings, text, helpfulness votes), product metadata (descriptions, category information, price, brand, and image features), and links (also viewed/also bought graphs). \n",
    "\n",
    "#### Sample Review:\n",
    "`\n",
    "{\n",
    "  \"reviewerID\": \"A2SUAM1J3GNN3B\",\n",
    "  \"asin\": \"0000013714\",\n",
    "  \"reviewerName\": \"J. McDonald\",\n",
    "  \"helpful\": [2, 3],\n",
    "  \"reviewText\": \"I bought this for my husband who plays the piano.  He is having a wonderful time playing these old hymns.  The music  is at times hard to read because we think the book was published for singing from more than playing from.  Great purchase though!\",\n",
    "  \"overall\": 5.0,\n",
    "  \"summary\": \"Heavenly Highway Hymns\",\n",
    "  \"unixReviewTime\": 1252800000,\n",
    "  \"reviewTime\": \"09 13, 2009\"\n",
    "}\n",
    "`\n",
    "\n",
    "#### The dataset also has reviews aggregated by different categories. For the rest of this notebook, we will consider only the product category: Cell Phones and Accessories.\n",
    "\n",
    "### 2. Yelp Dataset\n",
    "We use the Yelp dataset available from http://www.yelp.com/dataset_challenge/. The complete dataset contains:\n",
    "* 1.6M reviews and 500K tips by 366K users for 61K businesses.\n",
    "* 481K business attributes, e.g., hours, parking availability, ambience.\n",
    "* Social network of 366K users for a total of 2.9M social edges.\n",
    "* Aggregated check-ins over time for each of the 61K businesses.\n",
    "\n",
    "#### Sample Review:\n",
    "`\n",
    "{\n",
    "    'type': 'review',\n",
    "    'business_id': (the identifier of the reviewed business),\n",
    "    'user_id': (the identifier of the authoring user),\n",
    "    'stars': (star rating, integer 1-5),\n",
    "    'text': (review text),\n",
    "    'date': (date, formatted like '2011-04-19'),\n",
    "    'votes': {\n",
    "        'useful': (count of useful votes),\n",
    "        'funny': (count of funny votes),\n",
    "        'cool': (count of cool votes)\n",
    "    }\n",
    "}\n",
    "`\n",
    "\n",
    "##### Note that Yelp only provides the count of useful / funny / cool votes, and not a helpfulness score such as Amazon (2/3 users found this useful.)"
   ]
  },
  {
   "cell_type": "markdown",
   "metadata": {},
   "source": [
    "# Statistics for the Amazon Dataset\n",
    "------------------"
   ]
  },
  {
   "cell_type": "markdown",
   "metadata": {},
   "source": [
    "** Category: ** Cell Phone and Accessories\n",
    "\n",
    "** Total Number of Reviews: **"
   ]
  },
  {
   "cell_type": "code",
   "execution_count": 1,
   "metadata": {
    "collapsed": false
   },
   "outputs": [
    {
     "name": "stdout",
     "output_type": "stream",
     "text": [
      "3447275\r\n"
     ]
    }
   ],
   "source": [
    "!sed -n '$=' reviews_Cell_Phones_and_Accessories.json.gz2"
   ]
  },
  {
   "cell_type": "code",
   "execution_count": 2,
   "metadata": {
    "collapsed": true
   },
   "outputs": [],
   "source": [
    "import pandas as pd\n",
    "import ast, gzip\n",
    "import simplejson as json"
   ]
  },
  {
   "cell_type": "code",
   "execution_count": 3,
   "metadata": {
    "collapsed": false
   },
   "outputs": [],
   "source": [
    "def parse(path):\n",
    "    count = 0\n",
    "    with gzip.open(path, 'r') as f:\n",
    "        for l in f:\n",
    "            rev = ast.literal_eval(l.strip())\n",
    "            year = int(rev['reviewTime'].split(',')[-1].strip())\n",
    "            if year == 2013:\n",
    "                count += 1\n",
    "    return count\n",
    "\n",
    "path = '/home/ankesh/masters-thesis/data/reviews_Cell_Phones_and_Accessories.json.gz'\n",
    "count = parse(path)"
   ]
  },
  {
   "cell_type": "code",
   "execution_count": 4,
   "metadata": {
    "collapsed": false
   },
   "outputs": [
    {
     "name": "stdout",
     "output_type": "stream",
     "text": [
      "1446114\n"
     ]
    }
   ],
   "source": [
    "print count"
   ]
  }
 ],
 "metadata": {
  "kernelspec": {
   "display_name": "Python 2",
   "language": "python",
   "name": "python2"
  },
  "language_info": {
   "codemirror_mode": {
    "name": "ipython",
    "version": 2
   },
   "file_extension": ".py",
   "mimetype": "text/x-python",
   "name": "python",
   "nbconvert_exporter": "python",
   "pygments_lexer": "ipython2",
   "version": "2.7.6"
  }
 },
 "nbformat": 4,
 "nbformat_minor": 0
}
